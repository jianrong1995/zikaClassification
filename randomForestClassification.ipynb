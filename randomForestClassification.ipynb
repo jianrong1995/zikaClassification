{
  "nbformat": 4,
  "nbformat_minor": 0,
  "metadata": {
    "colab": {
      "name": "randomForestClassification.ipynb",
      "provenance": [],
      "collapsed_sections": [
        "6GCyVQxPUhMZ",
        "Gqlqjx3nUmPm"
      ],
      "include_colab_link": true
    },
    "kernelspec": {
      "name": "python3",
      "display_name": "Python 3"
    }
  },
  "cells": [
    {
      "cell_type": "markdown",
      "metadata": {
        "id": "view-in-github",
        "colab_type": "text"
      },
      "source": [
        "<a href=\"https://colab.research.google.com/github/jianrong1995/zikaClassification/blob/master/randomForestClassification.ipynb\" target=\"_parent\"><img src=\"https://colab.research.google.com/assets/colab-badge.svg\" alt=\"Open In Colab\"/></a>"
      ]
    },
    {
      "cell_type": "code",
      "metadata": {
        "id": "VsYLLoyj5n5e",
        "colab_type": "code",
        "outputId": "16d72c18-3bdb-45a5-cc73-0b8cfd3da894",
        "colab": {
          "base_uri": "https://localhost:8080/",
          "height": 129
        }
      },
      "source": [
        "from google.colab import drive\n",
        "# drive.flush_and_unmount()\n",
        "drive.mount('/content/drive')\n",
        "\n",
        "csv_folder = '/content/drive/My Drive/Machine Learning/csv/'\n",
        "model_persistence = '/content/drive/My Drive/Machine Learning/model/'"
      ],
      "execution_count": 0,
      "outputs": [
        {
          "output_type": "stream",
          "text": [
            "Go to this URL in a browser: https://accounts.google.com/o/oauth2/auth?client_id=947318989803-6bn6qk8qdgf4n4g3pfee6491hc0brc4i.apps.googleusercontent.com&redirect_uri=urn%3aietf%3awg%3aoauth%3a2.0%3aoob&response_type=code&scope=email%20https%3a%2f%2fwww.googleapis.com%2fauth%2fdocs.test%20https%3a%2f%2fwww.googleapis.com%2fauth%2fdrive%20https%3a%2f%2fwww.googleapis.com%2fauth%2fdrive.photos.readonly%20https%3a%2f%2fwww.googleapis.com%2fauth%2fpeopleapi.readonly\n",
            "\n",
            "Enter your authorization code:\n",
            "··········\n",
            "Mounted at /content/drive\n"
          ],
          "name": "stdout"
        }
      ]
    },
    {
      "cell_type": "markdown",
      "metadata": {
        "id": "6GCyVQxPUhMZ",
        "colab_type": "text"
      },
      "source": [
        "##### Import statements"
      ]
    },
    {
      "cell_type": "code",
      "metadata": {
        "id": "9YfdsSTHP5ZG",
        "colab_type": "code",
        "outputId": "07368e27-3f76-42ba-ded4-11b4c8d8da71",
        "colab": {
          "base_uri": "https://localhost:8080/",
          "height": 147
        }
      },
      "source": [
        "import os\n",
        "import copy\n",
        "import csv\n",
        "import warnings\n",
        "import pandas as pd\n",
        "import numpy as np\n",
        "import seaborn as sns\n",
        "import matplotlib.pyplot as plt\n",
        "import pickle as pkl\n",
        "from imblearn.over_sampling import SMOTE\n",
        "from collections import defaultdict, Counter\n",
        "from datetime import datetime, date\n",
        "from tabulate import tabulate\n",
        "from sklearn import metrics\n",
        "from sklearn.linear_model import LogisticRegression\n",
        "from sklearn.ensemble import RandomForestClassifier, RandomForestRegressor\n",
        "from sklearn.metrics import confusion_matrix, accuracy_score, classification_report, roc_curve, f1_score\n",
        "from sklearn.model_selection import train_test_split, cross_val_score, GridSearchCV, StratifiedKFold\n",
        "from sklearn.pipeline import make_pipeline\n",
        "from sklearn import model_selection"
      ],
      "execution_count": 0,
      "outputs": [
        {
          "output_type": "stream",
          "text": [
            "/usr/local/lib/python3.6/dist-packages/statsmodels/tools/_testing.py:19: FutureWarning: pandas.util.testing is deprecated. Use the functions in the public API at pandas.testing instead.\n",
            "  import pandas.util.testing as tm\n",
            "/usr/local/lib/python3.6/dist-packages/sklearn/externals/six.py:31: FutureWarning: The module is deprecated in version 0.21 and will be removed in version 0.23 since we've dropped support for Python 2.7. Please rely on the official version of six (https://pypi.org/project/six/).\n",
            "  \"(https://pypi.org/project/six/).\", FutureWarning)\n",
            "/usr/local/lib/python3.6/dist-packages/sklearn/utils/deprecation.py:144: FutureWarning: The sklearn.neighbors.base module is  deprecated in version 0.22 and will be removed in version 0.24. The corresponding classes / functions should instead be imported from sklearn.neighbors. Anything that cannot be imported from sklearn.neighbors is now part of the private API.\n",
            "  warnings.warn(message, FutureWarning)\n"
          ],
          "name": "stderr"
        }
      ]
    },
    {
      "cell_type": "markdown",
      "metadata": {
        "id": "Gqlqjx3nUmPm",
        "colab_type": "text"
      },
      "source": [
        "##### Helper Methods"
      ]
    },
    {
      "cell_type": "code",
      "metadata": {
        "id": "-MqhGEmU-54H",
        "colab_type": "code",
        "colab": {}
      },
      "source": [
        "# method to do grid search\n",
        "def parameterSweeping(classifier, param):\n",
        "    gridSearcher = GridSearchCV(estimator = classifier,\n",
        "                            param_grid = param, \n",
        "                            cv = 3, n_jobs = -1, refit=True)\n",
        "    return gridSearcher\n",
        "\n",
        "#method to plot ROC\n",
        "def plotROC(groundTruth, prediction):\n",
        "    fpr, tpr, threshold = metrics.roc_curve(groundTruth, prediction)\n",
        "    roc_auc = metrics.auc(fpr, tpr)\n",
        "    plt.title('Receiver Operating Characteristic')\n",
        "    plt.plot(fpr, tpr, 'b', label = 'AUC = %0.2f' % roc_auc)\n",
        "    plt.legend(loc = 'lower right')\n",
        "    plt.plot([0, 1], [0, 1],'r--')\n",
        "    plt.xlim([-0.05, 1])\n",
        "    plt.ylim([-0.05, 1])\n",
        "    plt.ylabel('True Positive Rate')\n",
        "    plt.xlabel('False Positive Rate')\n",
        "    plt.show()\n",
        "    \n",
        "#method to create feature importance plot  \n",
        "def featureImportancePlot(fittedModel, headers):\n",
        "    feature_imp = pd.Series(fittedModel.feature_importances_,index = headers).sort_values(ascending = False)\n",
        "    sns.barplot(x = feature_imp, y = feature_imp.index)\n",
        "    plt.xlabel('Feature Importance Score')\n",
        "    plt.ylabel('Features')\n",
        "    plt.title(\"Visualizing Important Features\")\n",
        "    plt.legend()\n",
        "    plt.show()\n",
        "    print(feature_imp)\n",
        "\n",
        "#eda method for histogram and scatterplot\n",
        "def histogramPlot(data):\n",
        "    sns.distplot(data)\n",
        "\n",
        "def scatterPlot(x, y):\n",
        "    sns.jointplot(x = \"x\", y = \"y\")"
      ],
      "execution_count": 0,
      "outputs": []
    },
    {
      "cell_type": "markdown",
      "metadata": {
        "id": "kv9J7uVoYHoP",
        "colab_type": "text"
      },
      "source": [
        "# Preparing Data for Classification\n",
        "Run codeblock once is sufficient!"
      ]
    },
    {
      "cell_type": "code",
      "metadata": {
        "id": "zIadqQ6TQMlS",
        "colab_type": "code",
        "colab": {}
      },
      "source": [
        "#this code chunk read the colombia_scaled_with_density csv and manupilate date such that it is changed to seconds since epoch time,\n",
        "#some columns that are not needed are also dropped\n",
        "\n",
        "colombia = pd.read_csv(csv_folder + \"colombia_scaled_with_density.csv\")\n",
        "colombia['datetime']= pd.to_datetime(colombia['date_y'], yearfirst=True)\n",
        "colombia['intDate'] = 0\n",
        "\n",
        "for index, row in colombia.iterrows():\n",
        "    thisDate = colombia.loc[index,'datetime']\n",
        "    colombia.loc[index, 'intDate'] = int(thisDate.timestamp())\n",
        "\n",
        "colombia.sort_values(by=['province','intDate'], inplace=True)\n",
        "colombia = colombia.drop(['date_y','confirmed','cumulative','datetime'], axis=1)\n",
        "colombia = colombia[['province', 'new_temp', 'new_dp', 'precipitation', 'wind', 'density', 'intDate', 'confirmed_bool']]\n",
        "\n",
        "\n",
        "\n",
        "#The code below creates another csv file of the manupilated datafile\n",
        "## colombia.to_csv(csv_folder + \"colombiaClassificationML.csv\")"
      ],
      "execution_count": 0,
      "outputs": []
    },
    {
      "cell_type": "markdown",
      "metadata": {
        "id": "wcQqaY2aZQS8",
        "colab_type": "text"
      },
      "source": [
        "# Random Forest National"
      ]
    },
    {
      "cell_type": "code",
      "metadata": {
        "id": "mqDMcjD5Q0PI",
        "colab_type": "code",
        "outputId": "273681c3-4c50-487d-b1c0-2ae24ed862cf",
        "colab": {
          "base_uri": "https://localhost:8080/",
          "height": 287
        }
      },
      "source": [
        "#creates a copy of data for national model\n",
        "colombiaNat = copy.deepcopy(colombia)                 \n",
        "colombiaNat.drop(columns=['province'], inplace=True)  \n",
        "featuresNat = colombiaNat.iloc[:,:6]\n",
        "classTypeNat = colombiaNat.iloc[:,6]\n",
        "\n",
        "# suppresses warning and conducts SMOTE resampling for minority class\n",
        "warnings.filterwarnings(\"ignore\")\n",
        "sm = SMOTE(sampling_strategy='minority', random_state=7)\n",
        "oversampled_X, oversampled_y = sm.fit_sample(featuresNat, classTypeNat)\n",
        "\n",
        "# train-test split, 20% to be left out for test data\n",
        "X_train, X_test, y_train, y_test = train_test_split(oversampled_X, oversampled_y, test_size = 0.20, random_state = 5)\n",
        "\n",
        "# initiate classifier and do a exhaustive search for best performance\n",
        "rfNat = RandomForestClassifier(random_state = 5)\n",
        "paramGrid = {\n",
        "    'n_estimators': [5,10,15],\n",
        "    'max_features': ['sqrt','log2', None],\n",
        "    'max_depth': [None, 5, 10, 15],\n",
        "    'min_samples_split': [10,20,25,30]\n",
        "}\n",
        "rfNat = parameterSweeping(rfNat,paramGrid)\n",
        "rfNat.fit(X_train,y_train)\n",
        "\n",
        "#extract best performing parameters and use it\n",
        "this = RandomForestClassifier(**rfNat.best_params_,verbose=0, random_state = 5)\n",
        "this.fit(X_train, y_train)\n",
        "y_pred = this.predict(X_test)\n",
        "\n",
        "#plot confusion matrix using seaborn\n",
        "cm = confusion_matrix(y_test, y_pred)\n",
        "labels = ['True Neg','False Pos','False Neg','True Pos']\n",
        "group_counts = [\"{0:0.0f}\".format(value) for value in cm.flatten()]\n",
        "labels = [f\"{v1}\\n{v2}\" for v1, v2 in zip(labels,group_counts)]\n",
        "labels = np.asarray(labels).reshape(2,2)\n",
        "sns.heatmap(cm, annot=labels, fmt='', cmap='Blues')"
      ],
      "execution_count": 0,
      "outputs": [
        {
          "output_type": "execute_result",
          "data": {
            "text/plain": [
              "<matplotlib.axes._subplots.AxesSubplot at 0x7f25fbfe9ac8>"
            ]
          },
          "metadata": {
            "tags": []
          },
          "execution_count": 7
        },
        {
          "output_type": "display_data",
          "data": {
            "image/png": "[encoded data removed]",
            "text/plain": [
              "<Figure size 432x288 with 2 Axes>"
            ]
          },
          "metadata": {
            "tags": []
          }
        }
      ]
    },
    {
      "cell_type": "code",
      "metadata": {
        "id": "nQ_RqtjFga33",
        "colab_type": "code",
        "outputId": "cc5f1ac7-1043-4811-99a3-f001e35b736c",
        "colab": {
          "base_uri": "https://localhost:8080/",
          "height": 313
        }
      },
      "source": [
        "# find probability of each test example for plotting ROC\n",
        "y_proba = this.predict_proba(X_test)\n",
        "y_proba  =y_proba[:,1]\n",
        "print(\"Testing Score: \" + str(accuracy_score(y_test, y_pred)))\n",
        "plotROC(y_test, y_proba)        #plot ROC"
      ],
      "execution_count": 0,
      "outputs": [
        {
          "output_type": "stream",
          "text": [
            "Testing Score: 0.9016018306636155\n"
          ],
          "name": "stdout"
        },
        {
          "output_type": "display_data",
          "data": {
            "image/png": "[encoded data removed]",
            "text/plain": [
              "<Figure size 432x288 with 1 Axes>"
            ]
          },
          "metadata": {
            "tags": []
          }
        }
      ]
    },
    {
      "cell_type": "code",
      "metadata": {
        "id": "S7o-7OUp8exA",
        "colab_type": "code",
        "outputId": "3bcf8470-09f6-4f13-9671-69936900c664",
        "colab": {
          "base_uri": "https://localhost:8080/",
          "height": 35
        }
      },
      "source": [
        "f1 = f1_score(y_test, y_pred)\n",
        "print(f1)"
      ],
      "execution_count": 0,
      "outputs": [
        {
          "output_type": "stream",
          "text": [
            "0.9029345372460496\n"
          ],
          "name": "stdout"
        }
      ]
    },
    {
      "cell_type": "code",
      "metadata": {
        "id": "6I8gM7j-Axmu",
        "colab_type": "code",
        "outputId": "9dc981fb-deeb-4bb9-ca26-919174531874",
        "colab": {
          "base_uri": "https://localhost:8080/",
          "height": 35
        }
      },
      "source": [
        "#display best parameters\n",
        "print(rfNat.best_params_)"
      ],
      "execution_count": 0,
      "outputs": [
        {
          "output_type": "stream",
          "text": [
            "{'max_depth': None, 'max_features': None, 'min_samples_split': 10, 'n_estimators': 15}\n"
          ],
          "name": "stdout"
        }
      ]
    },
    {
      "cell_type": "code",
      "metadata": {
        "id": "PfZ16sYeWhRW",
        "colab_type": "code",
        "outputId": "9674e455-30ed-468a-ae98-9df6f946afee",
        "colab": {
          "base_uri": "https://localhost:8080/",
          "height": 442
        }
      },
      "source": [
        "featureImportancePlot(this,featuresNat.columns)"
      ],
      "execution_count": 0,
      "outputs": [
        {
          "output_type": "stream",
          "text": [
            "No handles with labels found to put in legend.\n"
          ],
          "name": "stderr"
        },
        {
          "output_type": "display_data",
          "data": {
            "image/png": "[encoded data removed]",
            "text/plain": [
              "<Figure size 432x288 with 1 Axes>"
            ]
          },
          "metadata": {
            "tags": []
          }
        },
        {
          "output_type": "stream",
          "text": [
            "intDate          0.578105\n",
            "density          0.240447\n",
            "wind             0.054181\n",
            "new_dp           0.048040\n",
            "precipitation    0.047606\n",
            "new_temp         0.031622\n",
            "dtype: float64\n"
          ],
          "name": "stdout"
        }
      ]
    },
    {
      "cell_type": "markdown",
      "metadata": {
        "id": "DFAnXIfNvt1d",
        "colab_type": "text"
      },
      "source": [
        "##### Export National Model"
      ]
    },
    {
      "cell_type": "code",
      "metadata": {
        "id": "X5eP5SmtvrAp",
        "colab_type": "code",
        "colab": {}
      },
      "source": [
        "#export national model using python pickle, objective is to allow easy invocation without retraining\n",
        "with open(model_persistence + 'randomForestNational.pkl', 'wb') as fid:\n",
        "    pkl.dump(rfNat, fid)"
      ],
      "execution_count": 0,
      "outputs": []
    },
    {
      "cell_type": "markdown",
      "metadata": {
        "id": "csK4ApWFmTwO",
        "colab_type": "text"
      },
      "source": [
        "# Random Forest Local"
      ]
    },
    {
      "cell_type": "code",
      "metadata": {
        "id": "zkA8CW8RmS0A",
        "colab_type": "code",
        "outputId": "1fb70f51-a72a-4a17-e8ac-f55edd6d6fef",
        "colab": {
          "base_uri": "https://localhost:8080/",
          "height": 1000
        }
      },
      "source": [
        "#creates a copy of data for local model\n",
        "colombiaLocal = copy.deepcopy(colombia)\n",
        "shellDictionary = defaultdict(list)\n",
        "\n",
        "for index, row in colombiaLocal.iterrows():\n",
        "    province = row[0]\n",
        "    otherData = row[1:]\n",
        "    shellDictionary[province].append(otherData)\n",
        "\n",
        "#drop guaviare as it is sparse\n",
        "shellDictionary.pop(\"Guaviare\")\n",
        "\n",
        "#intiate a variable such that final avergae accuracy can be computed\n",
        "RFaccuracyLocalOverall = 0\n",
        "\n",
        "#Iterate through each key and get the items in each key to do randomforest on\n",
        "for province in shellDictionary:\n",
        "    thisProvData = shellDictionary[province]\n",
        "    provDF = pd.DataFrame(thisProvData)\n",
        "    features = provDF.iloc[:,:6]\n",
        "    classType = provDF.iloc[:,6]\n",
        "\n",
        "#initiate rd classifier and do exhaustive search for each province\n",
        "    rfLoc = RandomForestClassifier(random_state= 5)\n",
        "    paramGrid = {\n",
        "        'n_estimators': [5,10],\n",
        "        'max_features': ['sqrt','log2', None],\n",
        "        'max_depth': [None, 5, 10],\n",
        "        'min_samples_split': [10,20]\n",
        "    }\n",
        "    rfLoc = parameterSweeping(rfLoc,paramGrid)\n",
        "    print(\"\\n\" + province + \"\\n\")\n",
        "    rfLoc.fit(features,classType)\n",
        "\n",
        "#fit the best parameters\n",
        "    eachModel = RandomForestClassifier(**rfLoc.best_params_,verbose=0)\n",
        "\n",
        "#perform stratifiedkfold validation, with 3 splits\n",
        "    skfold = StratifiedKFold(n_splits=3, random_state=100)\n",
        "    results_skfold = model_selection.cross_val_score(eachModel, features, classType, cv=skfold)\n",
        "    print(\"Accuracy: %.2f%%\" % (results_skfold.mean()*100.0))\n",
        "    RFaccuracyLocalOverall += results_skfold.mean()\n",
        "\n",
        "#export each model using python pickle model persistence\n",
        "    provincepkl = \"localRF\" + str(province) + \".pkl\"\n",
        "    with open(model_persistence + provincepkl, 'wb') as fid:\n",
        "        pkl.dump(eachModel, fid)\n",
        "\n",
        "print(RFaccuracyLocalOverall/len(shellDictionary))"
      ],
      "execution_count": 0,
      "outputs": [
        {
          "output_type": "stream",
          "text": [
            "\n",
            "Amazonas\n",
            "\n",
            "Accuracy: 92.16%\n",
            "\n",
            "Antioquia\n",
            "\n",
            "Accuracy: 90.07%\n",
            "\n",
            "Arauca\n",
            "\n",
            "Accuracy: 95.83%\n",
            "\n",
            "Atlantico\n",
            "\n",
            "Accuracy: 77.70%\n",
            "\n",
            "Barranquilla\n",
            "\n",
            "Accuracy: 94.00%\n",
            "\n",
            "Bolivar\n",
            "\n",
            "Accuracy: 69.73%\n",
            "\n",
            "Boyaca\n",
            "\n",
            "Accuracy: 97.92%\n",
            "\n",
            "Caldas\n",
            "\n",
            "Accuracy: 97.92%\n",
            "\n",
            "Caqueta\n",
            "\n",
            "Accuracy: 75.86%\n",
            "\n",
            "Cartagena\n",
            "\n",
            "Accuracy: 72.06%\n",
            "\n",
            "Casanare\n",
            "\n",
            "Accuracy: 65.69%\n",
            "\n",
            "Cauca\n",
            "\n",
            "Accuracy: 100.00%\n",
            "\n",
            "Cesar\n",
            "\n",
            "Accuracy: 90.07%\n",
            "\n",
            "Choco\n",
            "\n",
            "Accuracy: 90.20%\n",
            "\n",
            "Cordoba\n",
            "\n",
            "Accuracy: 92.03%\n",
            "\n",
            "Cundinamarca\n",
            "\n",
            "Accuracy: 94.00%\n",
            "\n",
            "Guainia\n",
            "\n",
            "Accuracy: 89.83%\n",
            "\n",
            "Guajira\n",
            "\n",
            "Accuracy: 97.92%\n",
            "\n",
            "Huila\n",
            "\n",
            "Accuracy: 96.08%\n",
            "\n",
            "Magdalena\n",
            "\n",
            "Accuracy: 67.65%\n",
            "\n",
            "Meta\n",
            "\n",
            "Accuracy: 59.44%\n",
            "\n",
            "Narino\n",
            "\n",
            "Accuracy: 97.92%\n",
            "\n",
            "Norte_Santander\n",
            "\n",
            "Accuracy: 73.16%\n",
            "\n",
            "Putumayo\n",
            "\n",
            "Accuracy: 94.00%\n",
            "\n",
            "Quindio\n",
            "\n",
            "Accuracy: 82.11%\n",
            "\n",
            "Risaralda\n",
            "\n",
            "Accuracy: 97.92%\n",
            "\n",
            "San_Andres\n",
            "\n",
            "Accuracy: 69.36%\n",
            "\n",
            "Santander\n",
            "\n",
            "Accuracy: 63.48%\n",
            "\n",
            "Sucre\n",
            "\n",
            "Accuracy: 63.60%\n",
            "\n",
            "Tolima\n",
            "\n",
            "Accuracy: 96.08%\n",
            "\n",
            "Valle_Del_Cauca\n",
            "\n",
            "Accuracy: 88.11%\n",
            "\n",
            "Vichada\n",
            "\n",
            "Accuracy: 96.08%\n",
            "0.852481617647059\n"
          ],
          "name": "stdout"
        }
      ]
    },
    {
      "cell_type": "code",
      "metadata": {
        "id": "oWIcJd70lk3t",
        "colab_type": "code",
        "outputId": "8951e61d-0107-4ffe-e603-218dcea3eeec",
        "colab": {
          "base_uri": "https://localhost:8080/",
          "height": 35
        }
      },
      "source": [
        ""
      ],
      "execution_count": 0,
      "outputs": [
        {
          "output_type": "stream",
          "text": [
            "50\n"
          ],
          "name": "stdout"
        }
      ]
    }
  ]
}